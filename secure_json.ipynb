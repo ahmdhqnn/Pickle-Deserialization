{
  "nbformat": 4,
  "nbformat_minor": 0,
  "metadata": {
    "colab": {
      "provenance": [],
      "authorship_tag": "ABX9TyPMY0aV9W7V9yJNIKLORKBd",
      "include_colab_link": true
    },
    "kernelspec": {
      "name": "python3",
      "display_name": "Python 3"
    },
    "language_info": {
      "name": "python"
    }
  },
  "cells": [
    {
      "cell_type": "markdown",
      "metadata": {
        "id": "view-in-github",
        "colab_type": "text"
      },
      "source": [
        "<a href=\"https://colab.research.google.com/github/ahmdhqnn/Pickle-Deserialization/blob/main/secure_json.ipynb\" target=\"_parent\"><img src=\"https://colab.research.google.com/assets/colab-badge.svg\" alt=\"Open In Colab\"/></a>"
      ]
    },
    {
      "cell_type": "code",
      "execution_count": null,
      "metadata": {
        "id": "OcaPT7hW7DkX"
      },
      "outputs": [],
      "source": [
        "import json\n",
        "\n",
        "class User:\n",
        "    def __init__(self, name):\n",
        "        self.name = name\n",
        "\n",
        "    def to_dict(self):\n",
        "        return {\"name\": self.name}\n",
        "\n",
        "    @staticmethod\n",
        "    def from_dict(data):\n",
        "        if not isinstance(data, dict):\n",
        "            raise ValueError(\"Data harus dalam format dictionary!\")\n",
        "        if \"name\" not in data:\n",
        "            raise KeyError(\"Key 'name' tidak ditemukan!\")\n",
        "        return User(data[\"name\"])\n",
        "\n",
        "def load_data(data):\n",
        "    return json.loads(data)  # ✅ Lebih aman!\n",
        "\n",
        "# Simulasi input dari pengguna\n",
        "user_input = input(\"Masukkan data terenkripsi (JSON format): \")\n",
        "try:\n",
        "    obj = User.from_dict(load_data(user_input))\n",
        "    print(f\"Data berhasil didekode: {obj.name}\")\n",
        "except json.JSONDecodeError as e:\n",
        "    print(f\"Error: Format JSON tidak valid! {e}\")\n",
        "except KeyError as e:\n",
        "    print(f\"Error: {e}\")\n",
        "except ValueError as e:\n",
        "    print(f\"Error: {e}\")\n"
      ]
    }
  ]
}