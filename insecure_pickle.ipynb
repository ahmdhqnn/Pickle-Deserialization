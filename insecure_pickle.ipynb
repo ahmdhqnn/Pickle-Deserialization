{
  "nbformat": 4,
  "nbformat_minor": 0,
  "metadata": {
    "colab": {
      "provenance": [],
      "authorship_tag": "ABX9TyP3RurJSahoxHcGvBRy93US",
      "include_colab_link": true
    },
    "kernelspec": {
      "name": "python3",
      "display_name": "Python 3"
    },
    "language_info": {
      "name": "python"
    }
  },
  "cells": [
    {
      "cell_type": "markdown",
      "metadata": {
        "id": "view-in-github",
        "colab_type": "text"
      },
      "source": [
        "<a href=\"https://colab.research.google.com/github/ahmdhqnn/Pickle-Deserialization/blob/main/insecure_pickle.ipynb\" target=\"_parent\"><img src=\"https://colab.research.google.com/assets/colab-badge.svg\" alt=\"Open In Colab\"/></a>"
      ]
    },
    {
      "cell_type": "code",
      "execution_count": null,
      "metadata": {
        "colab": {
          "base_uri": "https://localhost:8080/"
        },
        "id": "EC0BhThj367o",
        "outputId": "5be58b1b-7c81-4c8b-8e07-3563b90d60d2"
      },
      "outputs": [
        {
          "output_type": "stream",
          "name": "stdout",
          "text": [
            "Masukan data terenkripsi: 80049544000000000000008c086275696c74696e73948c057072696e749493948c276563686f20274841434b45442120416e64612074656c6168206469656b73706c6f69746173692794859452942e\n",
            "echo 'HACKED! Anda telah dieksploitasi'\n",
            "Data berhasil didekode: None\n"
          ]
        }
      ],
      "source": [
        "import pickle\n",
        "\n",
        "class User:\n",
        "  def __init__(self, name, age, gender):\n",
        "    self.name = name\n",
        "    self.age = age\n",
        "    self.gender = gender\n",
        "\n",
        "def load_data(data):\n",
        "  return pickle.loads(data)\n",
        "\n",
        "#simulasi imput pengguna\n",
        "user_input = input(\"Masukan data terenkripsi: \")\n",
        "try:\n",
        "  obj = load_data(bytes.fromhex(user_input))\n",
        "  print(f\"Data berhasil didekode: {obj}\")\n",
        "except  Exception as e:\n",
        "  print(f\"Error: {e}\")"
      ]
    },
    {
      "cell_type": "code",
      "source": [],
      "metadata": {
        "id": "asbuo9vL4jbR"
      },
      "execution_count": null,
      "outputs": []
    }
  ]
}