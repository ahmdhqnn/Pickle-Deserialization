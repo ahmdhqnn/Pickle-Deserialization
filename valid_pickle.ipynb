{
  "nbformat": 4,
  "nbformat_minor": 0,
  "metadata": {
    "colab": {
      "provenance": [],
      "authorship_tag": "ABX9TyNqN0sHFah6nMeuxlT1wZtc",
      "include_colab_link": true
    },
    "kernelspec": {
      "name": "python3",
      "display_name": "Python 3"
    },
    "language_info": {
      "name": "python"
    }
  },
  "cells": [
    {
      "cell_type": "markdown",
      "metadata": {
        "id": "view-in-github",
        "colab_type": "text"
      },
      "source": [
        "<a href=\"https://colab.research.google.com/github/ahmdhqnn/Pickle-Deserialization/blob/main/valid_pickle.ipynb\" target=\"_parent\"><img src=\"https://colab.research.google.com/assets/colab-badge.svg\" alt=\"Open In Colab\"/></a>"
      ]
    },
    {
      "cell_type": "code",
      "execution_count": null,
      "metadata": {
        "id": "OcaPT7hW7DkX",
        "outputId": "69098119-6a07-414e-cd66-3b2a20cba378",
        "colab": {
          "base_uri": "https://localhost:8080/"
        }
      },
      "outputs": [
        {
          "output_type": "stream",
          "name": "stdout",
          "text": [
            "Payload valid untuk secure_pickle.ipynb:\n",
            "8004952b000000000000008c085f5f6d61696e5f5f948c04557365729493942981947d948c046e616d65948c05416c6963659473622e\n"
          ]
        }
      ],
      "source": [
        "import pickle\n",
        "\n",
        "class User:\n",
        "    def __init__(self, name):\n",
        "        self.name = name\n",
        "\n",
        "# Membuat objek User dengan nama \"Alice\"\n",
        "user_obj = User(\"Alice\")\n",
        "\n",
        "# Serialisasi objek User ke dalam pickle\n",
        "payload = pickle.dumps(user_obj).hex()\n",
        "\n",
        "print(\"Payload valid untuk secure_pickle.ipynb:\")\n",
        "print(payload)  # Salin hasilnya untuk digunakan dalam secure_pickle.ipynb"
      ]
    }
  ]
}