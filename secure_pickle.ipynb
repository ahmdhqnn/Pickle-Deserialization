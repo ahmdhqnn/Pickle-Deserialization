{
  "nbformat": 4,
  "nbformat_minor": 0,
  "metadata": {
    "colab": {
      "provenance": [],
      "authorship_tag": "ABX9TyPCkCXlATT/IOiMBGCUI3yY",
      "include_colab_link": true
    },
    "kernelspec": {
      "name": "python3",
      "display_name": "Python 3"
    },
    "language_info": {
      "name": "python"
    }
  },
  "cells": [
    {
      "cell_type": "markdown",
      "metadata": {
        "id": "view-in-github",
        "colab_type": "text"
      },
      "source": [
        "<a href=\"https://colab.research.google.com/github/ahmdhqnn/Pickle-Deserialization/blob/main/secure_pickle.ipynb\" target=\"_parent\"><img src=\"https://colab.research.google.com/assets/colab-badge.svg\" alt=\"Open In Colab\"/></a>"
      ]
    },
    {
      "cell_type": "code",
      "execution_count": null,
      "metadata": {
        "id": "OcaPT7hW7DkX"
      },
      "outputs": [],
      "source": [
        "import pickle\n",
        "import io\n",
        "\n",
        "class User:\n",
        "    def __init__(self, name):\n",
        "        self.name = name\n",
        "\n",
        "class RestrictedUnpickler(pickle.Unpickler):\n",
        "    def find_class(self, module, name):\n",
        "        # Hanya izinkan kelas tertentu\n",
        "        if module == \"__main__\" and name in [\"User\"]:\n",
        "            return globals()[name]\n",
        "        raise pickle.UnpicklingError(f\"Blocked class: {module}.{name}\")\n",
        "\n",
        "def load_data(data):\n",
        "    return RestrictedUnpickler(io.BytesIO(data)).load()  # ✅ Sekarang data dibungkus dalam file-like object!\n",
        "\n",
        "# Simulasi input dari pengguna\n",
        "user_input = input(\"Masukkan data terenkripsi (HEX format): \")\n",
        "try:\n",
        "    obj = load_data(bytes.fromhex(user_input))\n",
        "    print(f\"Data berhasil didekode: {obj.name}\")\n",
        "except Exception as e:\n",
        "    print(f\"Error: {e}\")\n",
        "\n"
      ]
    }
  ]
}